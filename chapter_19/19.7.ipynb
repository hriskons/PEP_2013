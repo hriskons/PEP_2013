{
 "metadata": {
  "name": "19.7"
 }, 
 "nbformat": 2, 
 "worksheets": [
  {
   "cells": [
    {
     "cell_type": "markdown", 
     "source": [
      "# 19.7 Model selection: choosing estimators and their parameters", 
      "", 
      "## 19.7.1 Grid-search and cross-validates estimators", 
      "", 
      "### Grid-search"
     ]
    }, 
    {
     "cell_type": "code", 
     "collapsed": false, 
     "input": [
      "import pylab as pl", 
      "from sklearn import svm,grid_search,datasets", 
      "import numpy as np", 
      "", 
      "iris = datasets.load_iris()", 
      "digits = datasets.load_digits()", 
      "", 
      "gammas = np.logspace(-6,-1,10)", 
      "svc = svm.SVC()", 
      "", 
      "clf = grid_search.GridSearchCV(estimator = svc, param_grid = dict(gamma=gammas),n_jobs=-1)", 
      "clf.fit(digits.data[:1000],digits.target[:1000])", 
      ""
     ], 
     "language": "python", 
     "outputs": [
      {
       "output_type": "pyout", 
       "prompt_number": 5, 
       "text": [
        "0.98899798001594419"
       ]
      }
     ], 
     "prompt_number": 5
    }, 
    {
     "cell_type": "code", 
     "collapsed": false, 
     "input": [
      "clf.best_score"
     ], 
     "language": "python", 
     "outputs": [
      {
       "output_type": "pyout", 
       "prompt_number": 6, 
       "text": [
        "0.98899798001594419"
       ]
      }
     ], 
     "prompt_number": 6
    }, 
    {
     "cell_type": "code", 
     "collapsed": false, 
     "input": [
      "clf.best_estimator.gamma"
     ], 
     "language": "python", 
     "outputs": [
      {
       "output_type": "pyout", 
       "prompt_number": 7, 
       "text": [
        "0.00059948425031894088"
       ]
      }
     ], 
     "prompt_number": 7
    }, 
    {
     "cell_type": "markdown", 
     "source": [
      "### Cross-validated estimators"
     ]
    }, 
    {
     "cell_type": "code", 
     "collapsed": true, 
     "input": [
      "from sklearn import linear_model, datasets", 
      "", 
      "lasso = linear_model.LassoCV()", 
      "diabetes = datasets.load_diabetes()", 
      "X_diabetes = diabetes.data", 
      "Y_diabetes = diabetes.target"
     ], 
     "language": "python", 
     "outputs": [], 
     "prompt_number": 11
    }, 
    {
     "cell_type": "code", 
     "collapsed": false, 
     "input": [
      "lasso.fit(X_diabetes,Y_diabetes)"
     ], 
     "language": "python", 
     "outputs": [
      {
       "output_type": "pyout", 
       "prompt_number": 12, 
       "text": [
        "LassoCV(alphas=array([  2.14804e+00,   2.00327e+00, ...,   2.30328e-03,   2.14804e-03]),", 
        "    copy_X=True, cv=None, eps=0.001, fit_intercept=True, max_iter=1000,", 
        "    n_alphas=100, normalize=False, precompute='auto', tol=0.0001,", 
        "    verbose=False)"
       ]
      }
     ], 
     "prompt_number": 12
    }, 
    {
     "cell_type": "code", 
     "collapsed": false, 
     "input": [
      "lasso.alpha"
     ], 
     "language": "python", 
     "outputs": [
      {
       "output_type": "pyout", 
       "prompt_number": 13, 
       "text": [
        "0.013180196198701125"
       ]
      }
     ], 
     "prompt_number": 13
    }, 
    {
     "cell_type": "code", 
     "collapsed": true, 
     "input": [], 
     "language": "python", 
     "outputs": []
    }
   ]
  }
 ]
}